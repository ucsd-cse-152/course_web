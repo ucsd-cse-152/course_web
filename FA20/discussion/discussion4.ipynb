{
 "cells": [
  {
   "cell_type": "code",
   "execution_count": null,
   "metadata": {},
   "outputs": [],
   "source": [
    "import numpy as np\n",
    "import matplotlib.pyplot as plt\n",
    "%matplotlib inline"
   ]
  },
  {
   "cell_type": "markdown",
   "metadata": {},
   "source": [
    "# Discussion 4: gradient descent and PyTorch"
   ]
  },
  {
   "cell_type": "markdown",
   "metadata": {},
   "source": [
    "## Gradient descent algorithm\n",
    "Gradient descent algorithm is used to minimize a target function. Here, let's look at a very simple case\n",
    "\n",
    "$$f(x) = x^4 + 3x^3-8x^2$$"
   ]
  },
  {
   "cell_type": "code",
   "execution_count": 3,
   "metadata": {},
   "outputs": [
    {
     "data": {
      "text/plain": [
       "[<matplotlib.lines.Line2D at 0x7f79977d1a90>]"
      ]
     },
     "execution_count": 3,
     "metadata": {},
     "output_type": "execute_result"
    },
    {
     "data": {
      "image/png": "[encoded data removed]",
      "text/plain": [
       "<Figure size 432x288 with 1 Axes>"
      ]
     },
     "metadata": {
      "needs_background": "light"
     },
     "output_type": "display_data"
    }
   ],
   "source": [
    "def f(x):\n",
    "    return x**4 + 3 * x**3 - 8*x**2\n",
    "xs = np.linspace(-4, 2, 100)\n",
    "plt.plot(xs, f(xs))"
   ]
  },
  {
   "cell_type": "markdown",
   "metadata": {},
   "source": [
    "Compute the gradient(derivative) for $f(x)$\n",
    "\n",
    "$$f'(x) = 4x^3 + 9x^2 - 16x$$"
   ]
  },
  {
   "cell_type": "code",
   "execution_count": 5,
   "metadata": {},
   "outputs": [],
   "source": [
    "def df(x):\n",
    "    return 4*x**3 + 9 * x**2 - 16*x"
   ]
  },
  {
   "cell_type": "code",
   "execution_count": 34,
   "metadata": {},
   "outputs": [],
   "source": [
    "# initial guess\n",
    "x = 0.5\n",
    "\n",
    "# learning rate\n",
    "lr = 0.01"
   ]
  },
  {
   "cell_type": "code",
   "execution_count": 53,
   "metadata": {},
   "outputs": [
    {
     "data": {
      "text/plain": [
       "<matplotlib.collections.PathCollection at 0x7f79966685c0>"
      ]
     },
     "execution_count": 53,
     "metadata": {},
     "output_type": "execute_result"
    },
    {
     "data": {
      "image/png": "[encoded data removed]",
      "text/plain": [
       "<Figure size 432x288 with 1 Axes>"
      ]
     },
     "metadata": {
      "needs_background": "light"
     },
     "output_type": "display_data"
    }
   ],
   "source": [
    "x -= lr * df(x)\n",
    "plt.plot(xs, f(xs))\n",
    "plt.scatter([x], [f(x)])"
   ]
  },
  {
   "cell_type": "markdown",
   "metadata": {},
   "source": [
    "## Gradient descent example: hinge loss linear classifier (soft support vector machine)\n",
    "We want to train a 2-class linear classifier. When $w^Tx+b$ is positive, we predict class $1$; when $w^Tx+b$ is negative, we predict class $-1$. We let\n",
    "$$y=w^Tx+b$$\n",
    "where $x$ is a data point, $w$ and $b$ are trainable weights. Intuitively, when $y$ is a large positive value, we are confident that $x$ belongs to class 1; when $y$ is a large negative value, we are confident that $x$ belongs to class -1.\n",
    "\n",
    "The loss function we need to minimize is the hinge loss\n",
    "$$J(y',y) = \\max(0, 1-y'y)$$\n",
    "where $y'\\in\\{-1, 1\\}$ is the ground truth label and $y\\in \\mathbb R$ is the predicted value.\n",
    "\n",
    "Intuively, when $y$ is \"very right\" (it predicts the correct label and it is greater than 1 or less than -1), the loss is $0$. Otherwise we give penalty based on how wrong it is.\n",
    "\n",
    "Now we have an optimization problem\n",
    "\n",
    "$$\\min_{w,b}\\sum_x \\max(0, 1-y'(w^Tx+b)) + \\frac{1}{2}\\lambda w^Tw$$\n",
    "\n",
    "Let\n",
    "\n",
    "$$L = \\sum_x \\max(0, 1-y'(wx+b))$$\n",
    "\n",
    "and we find its gradient,\n",
    "\n",
    "$$\\frac{\\partial L}{\\partial w} = \\sum_{x, 1-y'(wx+b) > 0} -y'x + \\lambda w$$\n",
    "$$\\frac{\\partial L}{\\partial b} = \\sum_{x, 1-y'(wx+b) > 0} -y'$$"
   ]
  },
  {
   "cell_type": "code",
   "execution_count": 54,
   "metadata": {},
   "outputs": [],
   "source": [
    "from torchvision.datasets import MNIST"
   ]
  },
  {
   "cell_type": "code",
   "execution_count": 55,
   "metadata": {},
   "outputs": [],
   "source": [
    "train_data = MNIST('.', train=True, download=True)\n",
    "test_data = MNIST('.', train=False, download=True)"
   ]
  },
  {
   "cell_type": "code",
   "execution_count": 56,
   "metadata": {},
   "outputs": [],
   "source": [
    "train_X = train_data.data.numpy()\n",
    "train_y = train_data.targets.numpy()\n",
    "test_X = test_data.data.numpy()\n",
    "test_y = test_data.targets.numpy()"
   ]
  },
  {
   "cell_type": "code",
   "execution_count": 57,
   "metadata": {},
   "outputs": [
    {
     "data": {
      "text/plain": [
       "<matplotlib.image.AxesImage at 0x7f794f952198>"
      ]
     },
     "execution_count": 57,
     "metadata": {},
     "output_type": "execute_result"
    },
    {
     "data": {
      "image/png": "[encoded data removed]",
      "text/plain": [
       "<Figure size 432x288 with 2 Axes>"
      ]
     },
     "metadata": {
      "needs_background": "light"
     },
     "output_type": "display_data"
    }
   ],
   "source": [
    "# get 2 classes from cifar\n",
    "train_X1 = train_X[train_y == 1]\n",
    "train_X2 = train_X[train_y == 7]\n",
    "plt.subplot(121)\n",
    "plt.imshow(train_X1[0], cmap='gray')\n",
    "plt.subplot(122)\n",
    "plt.imshow(train_X2[0], cmap='gray')"
   ]
  },
  {
   "cell_type": "code",
   "execution_count": 58,
   "metadata": {},
   "outputs": [],
   "source": [
    "# get the same 2 classes from the test data\n",
    "test_X1 = test_X[test_y == 1]\n",
    "test_X2 = test_X[test_y == 7]"
   ]
  },
  {
   "cell_type": "code",
   "execution_count": 59,
   "metadata": {},
   "outputs": [],
   "source": [
    "# prepare data and label\n",
    "train_X = np.concatenate([train_X1, train_X2])\n",
    "train_features = train_X.reshape([train_X.shape[0], -1])\n",
    "train_y = np.zeros(train_X.shape[0])\n",
    "train_y[:train_X1.shape[0]] = 1\n",
    "train_y[train_X2.shape[0]:] = -1\n",
    "\n",
    "test_X = np.concatenate([test_X1, test_X2])\n",
    "test_features = test_X.reshape([test_X.shape[0], -1])\n",
    "test_y = np.zeros(test_X.shape[0])\n",
    "test_y[:test_X1.shape[0]] = 1\n",
    "test_y[test_X2.shape[0]:] = -1"
   ]
  },
  {
   "cell_type": "code",
   "execution_count": 60,
   "metadata": {},
   "outputs": [],
   "source": [
    "from sklearn.svm import LinearSVC\n",
    "from sklearn.metrics import accuracy_score\n",
    "from skimage.feature import daisy"
   ]
  },
  {
   "cell_type": "code",
   "execution_count": 87,
   "metadata": {},
   "outputs": [],
   "source": [
    "from tqdm import tqdm_notebook"
   ]
  },
  {
   "cell_type": "code",
   "execution_count": 88,
   "metadata": {},
   "outputs": [],
   "source": [
    "w = np.random.randn(train_features.shape[1]) * .5 - .5\n",
    "b = 0\n",
    "lr = 0.001\n",
    "lam = 1"
   ]
  },
  {
   "cell_type": "code",
   "execution_count": 89,
   "metadata": {},
   "outputs": [],
   "source": [
    "scores = []"
   ]
  },
  {
   "cell_type": "code",
   "execution_count": 108,
   "metadata": {},
   "outputs": [
    {
     "data": {
      "text/plain": [
       "0.9204808136846971"
      ]
     },
     "execution_count": 108,
     "metadata": {},
     "output_type": "execute_result"
    }
   ],
   "source": [
    "idx = np.arange(train_features.shape[0])\n",
    "np.random.shuffle(idx)\n",
    "train_features2 = train_features[idx]\n",
    "train_y2 = train_y[idx]\n",
    "lr *= 0.95\n",
    "for x, y in zip(train_features2, train_y2):\n",
    "    v = lam * w\n",
    "    if ((w@x)+b) * y < 1:\n",
    "        w += lr * y * x\n",
    "        b += lr * y\n",
    "    w -= lr * v\n",
    "pred_y = np.sign(test_features @ w + b)\n",
    "scores.append(accuracy_score(test_y, pred_y))\n",
    "scores[-1]"
   ]
  },
  {
   "cell_type": "code",
   "execution_count": 113,
   "metadata": {},
   "outputs": [
    {
     "data": {
      "text/plain": [
       "[<matplotlib.lines.Line2D at 0x7f79270c6be0>]"
      ]
     },
     "execution_count": 113,
     "metadata": {},
     "output_type": "execute_result"
    },
    {
     "data": {
      "image/png": "[encoded data removed]",
      "text/plain": [
       "<Figure size 432x288 with 1 Axes>"
      ]
     },
     "metadata": {
      "needs_background": "light"
     },
     "output_type": "display_data"
    }
   ],
   "source": [
    "plt.plot(scores)"
   ]
  },
  {
   "cell_type": "code",
   "execution_count": 112,
   "metadata": {},
   "outputs": [
    {
     "data": {
      "application/vnd.jupyter.widget-view+json": {
       "model_id": "274306bef68e4d7bb5d8b1a9fa9c1e7d",
       "version_major": 2,
       "version_minor": 0
      },
      "text/plain": [
       "HBox(children=(IntProgress(value=0), HTML(value='')))"
      ]
     },
     "metadata": {},
     "output_type": "display_data"
    },
    {
     "name": "stdout",
     "output_type": "stream",
     "text": [
      "\n"
     ]
    }
   ],
   "source": [
    "for _ in tqdm_notebook(range(100)):\n",
    "    idx = np.arange(train_features.shape[0])\n",
    "    np.random.shuffle(idx)\n",
    "    train_features2 = train_features[idx]\n",
    "    train_y2 = train_y[idx]\n",
    "    lr *= 0.95\n",
    "    for x, y in zip(train_features2, train_y2):\n",
    "        if ((w@x)+b) * y < 1:\n",
    "            w += lr * y * x\n",
    "            b += lr * y\n",
    "    pred_y = np.sign(test_features @ w + b)\n",
    "    scores.append(accuracy_score(test_y, pred_y))\n",
    "    scores[-1]"
   ]
  },
  {
   "cell_type": "markdown",
   "metadata": {},
   "source": [
    "## Introducing PyTorch"
   ]
  },
  {
   "cell_type": "code",
   "execution_count": 114,
   "metadata": {},
   "outputs": [],
   "source": [
    "import torch\n",
    "from torch import nn\n",
    "import torchvision.transforms as transforms"
   ]
  },
  {
   "cell_type": "code",
   "execution_count": 115,
   "metadata": {},
   "outputs": [],
   "source": [
    "train_dataset = MNIST(root='.', transform=transforms.ToTensor(), train=True, download=True)\n",
    "test_dataset = MNIST('.', transform=transforms.ToTensor(), train=False)"
   ]
  },
  {
   "cell_type": "code",
   "execution_count": 116,
   "metadata": {},
   "outputs": [],
   "source": [
    "class MLP(nn.Module):\n",
    "    def __init__(self, input_size, hidden_size, num_classes):\n",
    "        \"\"\"init function builds the required layers\"\"\"\n",
    "        super(MLP, self).__init__()  # This line is always required\n",
    "        # Hidden layer\n",
    "        self.layer1 = nn.Linear(input_size, hidden_size)\n",
    "        # activation\n",
    "        self.relu = nn.ReLU()\n",
    "        # output layer\n",
    "        self.layer2 = nn.Linear(hidden_size, num_classes)\n",
    "    \n",
    "    def forward(self, x):\n",
    "        \"\"\"forward function describes how input tensor is transformed to output tensor\"\"\"\n",
    "        # flatten the input from (Nx1x28x28) to (Nx784)\n",
    "        x = self.layer1(x)\n",
    "        x = self.relu(x)\n",
    "        x = self.layer2(x)\n",
    "        # Note we do not need softmax layer, since this layer is included in the CrossEntropyLoss provided by torch\n",
    "        return x"
   ]
  },
  {
   "cell_type": "code",
   "execution_count": 117,
   "metadata": {},
   "outputs": [
    {
     "data": {
      "text/plain": [
       "MLP(\n",
       "  (layer1): Linear(in_features=784, out_features=1024, bias=True)\n",
       "  (relu): ReLU()\n",
       "  (layer2): Linear(in_features=1024, out_features=10, bias=True)\n",
       ")"
      ]
     },
     "execution_count": 117,
     "metadata": {},
     "output_type": "execute_result"
    }
   ],
   "source": [
    "model = MLP(784, 1024, 10)\n",
    "model"
   ]
  },
  {
   "cell_type": "code",
   "execution_count": 122,
   "metadata": {},
   "outputs": [],
   "source": [
    "opts = {\n",
    "    'lr': 5e-4,\n",
    "    'epochs': 5,\n",
    "    'batch_size': 64\n",
    "}"
   ]
  },
  {
   "cell_type": "code",
   "execution_count": 123,
   "metadata": {},
   "outputs": [],
   "source": [
    "optimizer = torch.optim.Adam(model.parameters(), opts['lr'])\n",
    "criterion = torch.nn.CrossEntropyLoss()  # loss function\n",
    "train_loader = torch.utils.data.DataLoader(dataset=train_dataset, batch_size=opts['batch_size'], shuffle=True)\n",
    "test_loader = torch.utils.data.DataLoader(dataset=test_dataset, batch_size=opts['batch_size'], shuffle=True)"
   ]
  },
  {
   "cell_type": "code",
   "execution_count": 124,
   "metadata": {},
   "outputs": [],
   "source": [
    "from tqdm import tqdm_notebook"
   ]
  },
  {
   "cell_type": "code",
   "execution_count": 125,
   "metadata": {},
   "outputs": [
    {
     "data": {
      "application/vnd.jupyter.widget-view+json": {
       "model_id": "d62b7e2315254885a6cd86d966b896b2",
       "version_major": 2,
       "version_minor": 0
      },
      "text/plain": [
       "HBox(children=(IntProgress(value=0, max=938), HTML(value='')))"
      ]
     },
     "metadata": {},
     "output_type": "display_data"
    },
    {
     "name": "stdout",
     "output_type": "stream",
     "text": [
      "\n",
      "epoch: 0, train loss: 0.25845983098231273, test loss: 0.13382322538145788, test accuracy: 0.9608877388535032\n"
     ]
    },
    {
     "data": {
      "application/vnd.jupyter.widget-view+json": {
       "model_id": "d80d8162641d427a9069e8834395953d",
       "version_major": 2,
       "version_minor": 0
      },
      "text/plain": [
       "HBox(children=(IntProgress(value=0, max=938), HTML(value='')))"
      ]
     },
     "metadata": {},
     "output_type": "display_data"
    },
    {
     "name": "stdout",
     "output_type": "stream",
     "text": [
      "\n",
      "epoch: 1, train loss: 0.10899110336992532, test loss: 0.09537234421890632, test accuracy: 0.9720342356687898\n"
     ]
    },
    {
     "data": {
      "application/vnd.jupyter.widget-view+json": {
       "model_id": "6b9fb953d2b44b2c9102cf9303a7d2b7",
       "version_major": 2,
       "version_minor": 0
      },
      "text/plain": [
       "HBox(children=(IntProgress(value=0, max=938), HTML(value='')))"
      ]
     },
     "metadata": {},
     "output_type": "display_data"
    },
    {
     "name": "stdout",
     "output_type": "stream",
     "text": [
      "\n",
      "epoch: 2, train loss: 0.07079220407886673, test loss: 0.08294050286340106, test accuracy: 0.9756170382165605\n"
     ]
    },
    {
     "data": {
      "application/vnd.jupyter.widget-view+json": {
       "model_id": "24a08daf66034f588cf6bf592ea23d3e",
       "version_major": 2,
       "version_minor": 0
      },
      "text/plain": [
       "HBox(children=(IntProgress(value=0, max=938), HTML(value='')))"
      ]
     },
     "metadata": {},
     "output_type": "display_data"
    },
    {
     "name": "stdout",
     "output_type": "stream",
     "text": [
      "\n",
      "epoch: 3, train loss: 0.049311918624515914, test loss: 0.07159415142503893, test accuracy: 0.9775079617834395\n"
     ]
    },
    {
     "data": {
      "application/vnd.jupyter.widget-view+json": {
       "model_id": "67cce6f408744ccfbddccf4a6345288f",
       "version_major": 2,
       "version_minor": 0
      },
      "text/plain": [
       "HBox(children=(IntProgress(value=0, max=938), HTML(value='')))"
      ]
     },
     "metadata": {},
     "output_type": "display_data"
    },
    {
     "name": "stdout",
     "output_type": "stream",
     "text": [
      "\n",
      "epoch: 4, train loss: 0.03708762474366025, test loss: 0.06014145113480319, test accuracy: 0.9800955414012739\n"
     ]
    }
   ],
   "source": [
    "for epoch in range(opts['epochs']):\n",
    "    train_loss = []\n",
    "    for i, (data, labels) in tqdm_notebook(enumerate(train_loader), total=len(train_loader)):\n",
    "        # reshape data\n",
    "        data = data.reshape([-1, 784])\n",
    "        # pass data through network\n",
    "        outputs = model(data)\n",
    "        loss = criterion(outputs, labels)\n",
    "        optimizer.zero_grad()  # Important! Otherwise the optimizer will accumulate gradients from previous runs!\n",
    "        loss.backward()\n",
    "        optimizer.step()\n",
    "        train_loss.append(loss.item())\n",
    "    test_loss = []\n",
    "    test_accuracy = []\n",
    "    for i, (data, labels) in enumerate(test_loader):\n",
    "        # reshape data\n",
    "        data = data.reshape([-1, 784])\n",
    "        # pass data through network\n",
    "        outputs = model(data)\n",
    "        _, predicted = torch.max(outputs.data, 1)\n",
    "        loss = criterion(outputs, labels)\n",
    "        test_loss.append(loss.item())\n",
    "        test_accuracy.append((predicted == labels).sum().item() / predicted.size(0))\n",
    "    print('epoch: {}, train loss: {}, test loss: {}, test accuracy: {}'.format(epoch, np.mean(train_loss), np.mean(test_loss), np.mean(test_accuracy)))"
   ]
  }
 ],
 "metadata": {
  "kernelspec": {
   "display_name": "Python 3",
   "language": "python",
   "name": "python3"
  },
  "language_info": {
   "codemirror_mode": {
    "name": "ipython",
    "version": 3
   },
   "file_extension": ".py",
   "mimetype": "text/x-python",
   "name": "python",
   "nbconvert_exporter": "python",
   "pygments_lexer": "ipython3",
   "version": "3.6.8"
  }
 },
 "nbformat": 4,
 "nbformat_minor": 2
}
